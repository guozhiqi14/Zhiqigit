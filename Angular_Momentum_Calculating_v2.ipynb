{
 "cells": [
  {
   "cell_type": "code",
   "execution_count": 2,
   "metadata": {
    "collapsed": true
   },
   "outputs": [],
   "source": [
    "import pandas as pd\n",
    "import h5py  \n",
    "import numpy as np"
   ]
  },
  {
   "cell_type": "code",
   "execution_count": 4,
   "metadata": {
    "collapsed": false
   },
   "outputs": [],
   "source": [
    "#Load data from h5py\n",
    "hdf5_path = '/Users/GuoZhiqi/Downloads/sub1_s99_sg.hdf5' \n",
    "data = h5py.File(hdf5_path,'r') "
   ]
  },
  {
   "cell_type": "code",
   "execution_count": 5,
   "metadata": {
    "collapsed": true
   },
   "outputs": [],
   "source": [
    "def print_keys(obj):\n",
    "    print([key for key in obj.keys()]) "
   ]
  },
  {
   "cell_type": "code",
   "execution_count": 6,
   "metadata": {
    "collapsed": false
   },
   "outputs": [
    {
     "name": "stdout",
     "output_type": "stream",
     "text": [
      "['Header', 'PartType0', 'PartType4']\n"
     ]
    }
   ],
   "source": [
    "print_keys(data) "
   ]
  },
  {
   "cell_type": "code",
   "execution_count": 7,
   "metadata": {
    "collapsed": false
   },
   "outputs": [
    {
     "name": "stdout",
     "output_type": "stream",
     "text": [
      "['Coordinates', 'FOFID', 'GalID', 'Masses', 'ParticleIDs', 'StarFormationRate', 'Velocities']\n"
     ]
    }
   ],
   "source": [
    "PartType0 = data['PartType0']  #Gas\n",
    "print_keys(PartType0) "
   ]
  },
  {
   "cell_type": "code",
   "execution_count": 8,
   "metadata": {
    "collapsed": false
   },
   "outputs": [
    {
     "name": "stdout",
     "output_type": "stream",
     "text": [
      "['Coordinates', 'FOFID', 'GFM_StellarFormationTime', 'GFM_StellarPhotometrics', 'GalID', 'Masses', 'ParticleIDs', 'Velocities']\n"
     ]
    }
   ],
   "source": [
    "PartType4 = data['PartType4'] #Star\n",
    "print_keys(PartType4)  "
   ]
  },
  {
   "cell_type": "code",
   "execution_count": 91,
   "metadata": {
    "collapsed": true
   },
   "outputs": [],
   "source": [
    "def cal_angular_mom(dataset,Type,alternative_weighted = False,cutoff = False):\n",
    "    '''\n",
    "    Formula: |sum j| = |sum mrv|/sum of mass\n",
    "    \n",
    "    The Type should be either:\n",
    "    1).Gas or 2).Star\n",
    "    \n",
    "    1. Calculate unweighted augular momentum for Gaseous Components(PartType0 - GAS) \n",
    "    2. Calculate weighted augular momentum for Gaseous Components(PartType0 - GAS)\n",
    "        (instead of mass use StarFormationRate) \n",
    "    3. Calculate unweighted augular momentum for stellar Components(PartType4 - STARS & WIND PARTICLES)\n",
    "    To do : alternative\n",
    "    \n",
    "    '''\n",
    "    if (Type == 'Gas'):\n",
    "        dataset = dataset['PartType0']\n",
    "        PartType0_aug_related_columns = np.concatenate([dataset['Coordinates'][:], \n",
    "                                                        dataset['Masses'][:], \n",
    "                                                        dataset['StarFormationRate'][:],\n",
    "                                                        dataset['Velocities'][:]],\n",
    "                                                        axis=1)\n",
    "        if(cutoff):\n",
    "            cut_off_radius = [np.linalg.norm(particle_radius)<=20 for particle_radius in PartType0_aug_related_columns[:,:3]]\n",
    "            PartType0_aug_related_columns = PartType0_aug_related_columns[cut_off_radius]\n",
    "            \n",
    "        Coordinates = PartType0_aug_related_columns[:,0:3]\n",
    "        Masses = PartType0_aug_related_columns[:,3]\n",
    "        StarFormationRate = PartType0_aug_related_columns[:,4]\n",
    "        Velocities = PartType0_aug_related_columns[:,5:8]\n",
    "        \n",
    "        if(alternative_weighted):\n",
    "            Weight = StarFormationRate\n",
    "        else:\n",
    "            Weight = Masses\n",
    "            \n",
    "        part_angular_momentum = np.multiply(Weight.reshape(len(Weight),1),np.cross(Coordinates,Velocities))\n",
    "        sum_angular_momentum = [np.sum([x[0] for x in part_angular_momentum]),np.sum([x[1] for x in part_angular_momentum]),np.sum([x[2] for x in part_angular_momentum])]\n",
    "        if(np.sum(Weight)!=0):\n",
    "            result = np.linalg.norm(sum_angular_momentum)/np.sum(Weight) #L2 norm\n",
    "        else:\n",
    "            result = 0\n",
    "        return result\n",
    "        \n",
    "    if (Type == 'Star') & (not alternative_weighted):\n",
    "        '''\n",
    "        Only consider particles which GFM_StellarFormationTime >=0 \n",
    "        '''\n",
    "        #Filter out real stars (GFM_StellarFormationTime >=0 )\n",
    "        dataset =dataset['PartType4']\n",
    "        PartType4_aug_related_columns = np.concatenate([dataset['Coordinates'][:], \n",
    "                                                        dataset['Masses'][:], \n",
    "                                                        dataset['GFM_StellarFormationTime'][:],\n",
    "                                                        dataset['Velocities'][:],\n",
    "                                                        dataset['GFM_StellarPhotometrics'][:]],\n",
    "                                                        axis=1)\n",
    "        PartType4_aug_related_columns = PartType4_aug_related_columns[PartType4_aug_related_columns[:,4]>=0 ]\n",
    "        if(cutoff):\n",
    "            cut_off_radius = [np.linalg.norm(particle_radius)<=20 for particle_radius in PartType4_aug_related_columns[:,:3]]\n",
    "            PartType4_aug_related_columns = PartType4_aug_related_columns[cut_off_radius]\n",
    "        \n",
    "        Coordinates = PartType4_aug_related_columns[:,0:3]\n",
    "        Masses = PartType4_aug_related_columns[:,3]\n",
    "        GFM_StellarFormationTime = PartType4_aug_related_columns[:,4]\n",
    "        Velocities = PartType4_aug_related_columns[:,5:8]\n",
    "        GFM_StellarPhotometrics = PartType4_aug_related_columns[:,8:]\n",
    "        \n",
    "        part_angular_momentum = np.multiply(Masses.reshape(len(Masses),1),np.cross(Coordinates,Velocities))\n",
    "        sum_angular_momentum = [np.sum([x[0] for x in part_angular_momentum]),np.sum([x[1] for x in part_angular_momentum]),np.sum([x[2] for x in part_angular_momentum])]\n",
    "        return np.linalg.norm(sum_angular_momentum)/np.sum(Masses) #L2 norm \n",
    "        "
   ]
  },
  {
   "cell_type": "code",
   "execution_count": 63,
   "metadata": {
    "collapsed": false
   },
   "outputs": [
    {
     "name": "stdout",
     "output_type": "stream",
     "text": [
      "Starformation weighted augular momentum for Gas: 114853.0\n"
     ]
    }
   ],
   "source": [
    "print('Starformation weighted augular momentum for Gas:',cal_angular_mom(data,'Gas',True,False))  "
   ]
  },
  {
   "cell_type": "code",
   "execution_count": 58,
   "metadata": {
    "collapsed": false
   },
   "outputs": [
    {
     "name": "stdout",
     "output_type": "stream",
     "text": [
      "Masses weighted augular momentum for Gas: 30939.5\n"
     ]
    }
   ],
   "source": [
    "print('Masses weighted augular momentum for Gas:',cal_angular_mom(data,'Gas',False,False))  "
   ]
  },
  {
   "cell_type": "code",
   "execution_count": 59,
   "metadata": {
    "collapsed": false
   },
   "outputs": [
    {
     "name": "stdout",
     "output_type": "stream",
     "text": [
      "Masses weighted augular momentum for Gas with Cutoff: 1319.87\n"
     ]
    }
   ],
   "source": [
    "print('Masses weighted augular momentum for Gas with Cutoff:',cal_angular_mom(data,'Gas',False,True))  "
   ]
  },
  {
   "cell_type": "code",
   "execution_count": 60,
   "metadata": {
    "collapsed": false
   },
   "outputs": [
    {
     "name": "stdout",
     "output_type": "stream",
     "text": [
      "mass weighted augular momentum for Star : 11189.4\n"
     ]
    }
   ],
   "source": [
    "print('mass weighted augular momentum for Star :',cal_angular_mom(data,'Star',False,False))"
   ]
  },
  {
   "cell_type": "code",
   "execution_count": 89,
   "metadata": {
    "collapsed": false
   },
   "outputs": [
    {
     "name": "stdout",
     "output_type": "stream",
     "text": [
      "mass weighted augular momentum for Star with Cutoff: 504.618\n"
     ]
    }
   ],
   "source": [
    "print('mass weighted augular momentum for Star with Cutoff:',cal_angular_mom(data,'Star',False,True))"
   ]
  },
  {
   "cell_type": "code",
   "execution_count": null,
   "metadata": {
    "collapsed": true
   },
   "outputs": [],
   "source": [
    "print('Starformation weighted augular momentum for Gas with Cutoff:',cal_angular_mom(data,'Gas',True,True))  "
   ]
  },
  {
   "cell_type": "code",
   "execution_count": null,
   "metadata": {
    "collapsed": true
   },
   "outputs": [],
   "source": []
  },
  {
   "cell_type": "code",
   "execution_count": null,
   "metadata": {
    "collapsed": true
   },
   "outputs": [],
   "source": []
  },
  {
   "cell_type": "code",
   "execution_count": null,
   "metadata": {
    "collapsed": true
   },
   "outputs": [],
   "source": []
  },
  {
   "cell_type": "code",
   "execution_count": null,
   "metadata": {
    "collapsed": true
   },
   "outputs": [],
   "source": []
  },
  {
   "cell_type": "code",
   "execution_count": null,
   "metadata": {
    "collapsed": true
   },
   "outputs": [],
   "source": []
  },
  {
   "cell_type": "code",
   "execution_count": null,
   "metadata": {
    "collapsed": true
   },
   "outputs": [],
   "source": []
  }
 ],
 "metadata": {
  "anaconda-cloud": {},
  "kernelspec": {
   "display_name": "Python [Root]",
   "language": "python",
   "name": "Python [Root]"
  },
  "language_info": {
   "codemirror_mode": {
    "name": "ipython",
    "version": 3
   },
   "file_extension": ".py",
   "mimetype": "text/x-python",
   "name": "python",
   "nbconvert_exporter": "python",
   "pygments_lexer": "ipython3",
   "version": "3.5.4"
  }
 },
 "nbformat": 4,
 "nbformat_minor": 1
}
