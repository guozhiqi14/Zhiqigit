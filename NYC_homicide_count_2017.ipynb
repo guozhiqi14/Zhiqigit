{
 "cells": [
  {
   "cell_type": "code",
   "execution_count": 1,
   "metadata": {
    "collapsed": true
   },
   "outputs": [],
   "source": [
    "import pandas as pd\n",
    "from dateutil import parser"
   ]
  },
  {
   "cell_type": "code",
   "execution_count": 2,
   "metadata": {
    "collapsed": true
   },
   "outputs": [],
   "source": [
    "nyc17 = pd.read_csv('/Volumes/TRANSCEND/Violence Tracker/NYC/NYPD_Crime_Data_Current_2017.csv')"
   ]
  },
  {
   "cell_type": "code",
   "execution_count": 4,
   "metadata": {
    "collapsed": false
   },
   "outputs": [
    {
     "data": {
      "text/plain": [
       "Index(['CMPLNT_NUM', 'CMPLNT_FR_DT', 'CMPLNT_FR_TM', 'CMPLNT_TO_DT',\n",
       "       'CMPLNT_TO_TM', 'RPT_DT', 'KY_CD', 'OFNS_DESC', 'PD_CD', 'PD_DESC',\n",
       "       'CRM_ATPT_CPTD_CD', 'LAW_CAT_CD', 'JURIS_DESC', 'BORO_NM',\n",
       "       'ADDR_PCT_CD', 'LOC_OF_OCCUR_DESC', 'PREM_TYP_DESC', 'PARKS_NM',\n",
       "       'HADEVELOPT', 'X_COORD_CD', 'Y_COORD_CD', 'Latitude', 'Longitude',\n",
       "       'Lat_Lon'],\n",
       "      dtype='object')"
      ]
     },
     "execution_count": 4,
     "metadata": {},
     "output_type": "execute_result"
    }
   ],
   "source": [
    "nyc17.columns"
   ]
  },
  {
   "cell_type": "code",
   "execution_count": 5,
   "metadata": {
    "collapsed": false
   },
   "outputs": [
    {
     "data": {
      "text/html": [
       "<div>\n",
       "<style>\n",
       "    .dataframe thead tr:only-child th {\n",
       "        text-align: right;\n",
       "    }\n",
       "\n",
       "    .dataframe thead th {\n",
       "        text-align: left;\n",
       "    }\n",
       "\n",
       "    .dataframe tbody tr th {\n",
       "        vertical-align: top;\n",
       "    }\n",
       "</style>\n",
       "<table border=\"1\" class=\"dataframe\">\n",
       "  <thead>\n",
       "    <tr style=\"text-align: right;\">\n",
       "      <th></th>\n",
       "      <th>CMPLNT_NUM</th>\n",
       "      <th>CMPLNT_FR_DT</th>\n",
       "      <th>CMPLNT_FR_TM</th>\n",
       "      <th>CMPLNT_TO_DT</th>\n",
       "      <th>CMPLNT_TO_TM</th>\n",
       "      <th>RPT_DT</th>\n",
       "      <th>KY_CD</th>\n",
       "      <th>OFNS_DESC</th>\n",
       "      <th>PD_CD</th>\n",
       "      <th>PD_DESC</th>\n",
       "      <th>...</th>\n",
       "      <th>ADDR_PCT_CD</th>\n",
       "      <th>LOC_OF_OCCUR_DESC</th>\n",
       "      <th>PREM_TYP_DESC</th>\n",
       "      <th>PARKS_NM</th>\n",
       "      <th>HADEVELOPT</th>\n",
       "      <th>X_COORD_CD</th>\n",
       "      <th>Y_COORD_CD</th>\n",
       "      <th>Latitude</th>\n",
       "      <th>Longitude</th>\n",
       "      <th>Lat_Lon</th>\n",
       "    </tr>\n",
       "  </thead>\n",
       "  <tbody>\n",
       "    <tr>\n",
       "      <th>0</th>\n",
       "      <td>845348933</td>\n",
       "      <td>03/31/2017</td>\n",
       "      <td>23:30:00</td>\n",
       "      <td>NaN</td>\n",
       "      <td>NaN</td>\n",
       "      <td>03/31/2017</td>\n",
       "      <td>578</td>\n",
       "      <td>HARRASSMENT 2</td>\n",
       "      <td>638.0</td>\n",
       "      <td>HARASSMENT,SUBD 3,4,5</td>\n",
       "      <td>...</td>\n",
       "      <td>69.0</td>\n",
       "      <td>INSIDE</td>\n",
       "      <td>RESIDENCE - APT. HOUSE</td>\n",
       "      <td>NaN</td>\n",
       "      <td>NaN</td>\n",
       "      <td>1012423.0</td>\n",
       "      <td>171737.0</td>\n",
       "      <td>40.638018</td>\n",
       "      <td>-73.898491</td>\n",
       "      <td>(40.638018389, -73.898491201)</td>\n",
       "    </tr>\n",
       "    <tr>\n",
       "      <th>1</th>\n",
       "      <td>886921338</td>\n",
       "      <td>03/31/2017</td>\n",
       "      <td>23:25:00</td>\n",
       "      <td>03/31/2017</td>\n",
       "      <td>23:30:00</td>\n",
       "      <td>03/31/2017</td>\n",
       "      <td>344</td>\n",
       "      <td>ASSAULT 3 &amp; RELATED OFFENSES</td>\n",
       "      <td>101.0</td>\n",
       "      <td>ASSAULT 3</td>\n",
       "      <td>...</td>\n",
       "      <td>14.0</td>\n",
       "      <td>NaN</td>\n",
       "      <td>STREET</td>\n",
       "      <td>NaN</td>\n",
       "      <td>NaN</td>\n",
       "      <td>987466.0</td>\n",
       "      <td>215861.0</td>\n",
       "      <td>40.759173</td>\n",
       "      <td>-73.988393</td>\n",
       "      <td>(40.759172699, -73.988392793)</td>\n",
       "    </tr>\n",
       "    <tr>\n",
       "      <th>2</th>\n",
       "      <td>893265998</td>\n",
       "      <td>03/31/2017</td>\n",
       "      <td>23:15:00</td>\n",
       "      <td>03/31/2017</td>\n",
       "      <td>23:25:00</td>\n",
       "      <td>03/31/2017</td>\n",
       "      <td>105</td>\n",
       "      <td>ROBBERY</td>\n",
       "      <td>394.0</td>\n",
       "      <td>ROBBERY,LICENSED FOR HIRE VEHICLE</td>\n",
       "      <td>...</td>\n",
       "      <td>42.0</td>\n",
       "      <td>FRONT OF</td>\n",
       "      <td>TAXI (LIVERY LICENSED)</td>\n",
       "      <td>NaN</td>\n",
       "      <td>NaN</td>\n",
       "      <td>1010502.0</td>\n",
       "      <td>245411.0</td>\n",
       "      <td>40.840241</td>\n",
       "      <td>-73.905125</td>\n",
       "      <td>(40.84024096, -73.905125257)</td>\n",
       "    </tr>\n",
       "    <tr>\n",
       "      <th>3</th>\n",
       "      <td>518511851</td>\n",
       "      <td>03/31/2017</td>\n",
       "      <td>23:00:00</td>\n",
       "      <td>03/31/2017</td>\n",
       "      <td>23:10:00</td>\n",
       "      <td>03/31/2017</td>\n",
       "      <td>364</td>\n",
       "      <td>OTHER STATE LAWS (NON PENAL LA</td>\n",
       "      <td>809.0</td>\n",
       "      <td>TAX LAW</td>\n",
       "      <td>...</td>\n",
       "      <td>49.0</td>\n",
       "      <td>INSIDE</td>\n",
       "      <td>GROCERY/BODEGA</td>\n",
       "      <td>NaN</td>\n",
       "      <td>NaN</td>\n",
       "      <td>1023622.0</td>\n",
       "      <td>253318.0</td>\n",
       "      <td>40.861895</td>\n",
       "      <td>-73.857662</td>\n",
       "      <td>(40.861894559, -73.85766248)</td>\n",
       "    </tr>\n",
       "    <tr>\n",
       "      <th>4</th>\n",
       "      <td>541009476</td>\n",
       "      <td>03/31/2017</td>\n",
       "      <td>22:55:00</td>\n",
       "      <td>03/31/2017</td>\n",
       "      <td>22:59:00</td>\n",
       "      <td>03/31/2017</td>\n",
       "      <td>235</td>\n",
       "      <td>DANGEROUS DRUGS</td>\n",
       "      <td>511.0</td>\n",
       "      <td>CONTROLLED SUBSTANCE, POSSESSI</td>\n",
       "      <td>...</td>\n",
       "      <td>68.0</td>\n",
       "      <td>FRONT OF</td>\n",
       "      <td>STREET</td>\n",
       "      <td>NaN</td>\n",
       "      <td>NaN</td>\n",
       "      <td>977956.0</td>\n",
       "      <td>167273.0</td>\n",
       "      <td>40.625808</td>\n",
       "      <td>-74.022675</td>\n",
       "      <td>(40.625808217, -74.022675222)</td>\n",
       "    </tr>\n",
       "  </tbody>\n",
       "</table>\n",
       "<p>5 rows × 24 columns</p>\n",
       "</div>"
      ],
      "text/plain": [
       "   CMPLNT_NUM CMPLNT_FR_DT CMPLNT_FR_TM CMPLNT_TO_DT CMPLNT_TO_TM      RPT_DT  \\\n",
       "0   845348933   03/31/2017     23:30:00          NaN          NaN  03/31/2017   \n",
       "1   886921338   03/31/2017     23:25:00   03/31/2017     23:30:00  03/31/2017   \n",
       "2   893265998   03/31/2017     23:15:00   03/31/2017     23:25:00  03/31/2017   \n",
       "3   518511851   03/31/2017     23:00:00   03/31/2017     23:10:00  03/31/2017   \n",
       "4   541009476   03/31/2017     22:55:00   03/31/2017     22:59:00  03/31/2017   \n",
       "\n",
       "   KY_CD                       OFNS_DESC  PD_CD  \\\n",
       "0    578                   HARRASSMENT 2  638.0   \n",
       "1    344    ASSAULT 3 & RELATED OFFENSES  101.0   \n",
       "2    105                         ROBBERY  394.0   \n",
       "3    364  OTHER STATE LAWS (NON PENAL LA  809.0   \n",
       "4    235                 DANGEROUS DRUGS  511.0   \n",
       "\n",
       "                             PD_DESC              ...                \\\n",
       "0              HARASSMENT,SUBD 3,4,5              ...                 \n",
       "1                          ASSAULT 3              ...                 \n",
       "2  ROBBERY,LICENSED FOR HIRE VEHICLE              ...                 \n",
       "3                            TAX LAW              ...                 \n",
       "4     CONTROLLED SUBSTANCE, POSSESSI              ...                 \n",
       "\n",
       "  ADDR_PCT_CD LOC_OF_OCCUR_DESC           PREM_TYP_DESC PARKS_NM  HADEVELOPT  \\\n",
       "0        69.0            INSIDE  RESIDENCE - APT. HOUSE      NaN         NaN   \n",
       "1        14.0               NaN                  STREET      NaN         NaN   \n",
       "2        42.0          FRONT OF  TAXI (LIVERY LICENSED)      NaN         NaN   \n",
       "3        49.0            INSIDE          GROCERY/BODEGA      NaN         NaN   \n",
       "4        68.0          FRONT OF                  STREET      NaN         NaN   \n",
       "\n",
       "  X_COORD_CD Y_COORD_CD   Latitude  Longitude                        Lat_Lon  \n",
       "0  1012423.0   171737.0  40.638018 -73.898491  (40.638018389, -73.898491201)  \n",
       "1   987466.0   215861.0  40.759173 -73.988393  (40.759172699, -73.988392793)  \n",
       "2  1010502.0   245411.0  40.840241 -73.905125   (40.84024096, -73.905125257)  \n",
       "3  1023622.0   253318.0  40.861895 -73.857662   (40.861894559, -73.85766248)  \n",
       "4   977956.0   167273.0  40.625808 -74.022675  (40.625808217, -74.022675222)  \n",
       "\n",
       "[5 rows x 24 columns]"
      ]
     },
     "execution_count": 5,
     "metadata": {},
     "output_type": "execute_result"
    }
   ],
   "source": [
    "nyc17.head()"
   ]
  },
  {
   "cell_type": "code",
   "execution_count": 7,
   "metadata": {
    "collapsed": false
   },
   "outputs": [],
   "source": [
    "nyc17['CMPLNT_FR_DT'] = pd.to_datetime(nyc17['CMPLNT_FR_DT'],errors='coerce') "
   ]
  },
  {
   "cell_type": "code",
   "execution_count": 10,
   "metadata": {
    "collapsed": false
   },
   "outputs": [
    {
     "data": {
      "text/plain": [
       "array([ 2017.,  1971.,  2016.,  2015.,  2013.,  2012.,  2008.,    nan,\n",
       "        2010.,  2014.,  2011.,  2009.,  2005.,  2006.,  1998.,  2007.,\n",
       "        1984.,  2003.,  1996.,  2004.,  1997.,  1983.,  2002.,  2000.,\n",
       "        1995.,  2001.,  1916.,  1977.,  1999.,  1986.])"
      ]
     },
     "execution_count": 10,
     "metadata": {},
     "output_type": "execute_result"
    }
   ],
   "source": [
    "nyc17.CMPLNT_FR_DT.dt.year.unique() "
   ]
  },
  {
   "cell_type": "code",
   "execution_count": 16,
   "metadata": {
    "collapsed": false,
    "scrolled": false
   },
   "outputs": [],
   "source": [
    "nyc17['Year'], nyc17['Month'] = nyc17['CMPLNT_FR_DT'].dt.year, nyc17['CMPLNT_FR_DT'].dt.month"
   ]
  },
  {
   "cell_type": "code",
   "execution_count": 18,
   "metadata": {
    "collapsed": false
   },
   "outputs": [],
   "source": [
    "nyc17 = nyc17[nyc17.Year > 2013] "
   ]
  },
  {
   "cell_type": "code",
   "execution_count": 29,
   "metadata": {
    "collapsed": false,
    "scrolled": false
   },
   "outputs": [],
   "source": [
    "murder = ['MURDER & NON-NEGL. MANSLAUGHTER']\n",
    "flag = nyc17.OFNS_DESC.isin(murder)\n",
    "nyc_count = nyc17[flag].groupby(['Year','Month','OFNS_DESC']).size().reset_index(name='count')"
   ]
  },
  {
   "cell_type": "code",
   "execution_count": null,
   "metadata": {
    "collapsed": true
   },
   "outputs": [],
   "source": []
  },
  {
   "cell_type": "markdown",
   "metadata": {},
   "source": [
    "Note that in 2017's dataset, there might be situations that crime report date is in 2017 but occurred date is in 2016, thus we need to add 2016's number back."
   ]
  },
  {
   "cell_type": "code",
   "execution_count": 30,
   "metadata": {
    "collapsed": false
   },
   "outputs": [
    {
     "data": {
      "text/html": [
       "<div>\n",
       "<style>\n",
       "    .dataframe thead tr:only-child th {\n",
       "        text-align: right;\n",
       "    }\n",
       "\n",
       "    .dataframe thead th {\n",
       "        text-align: left;\n",
       "    }\n",
       "\n",
       "    .dataframe tbody tr th {\n",
       "        vertical-align: top;\n",
       "    }\n",
       "</style>\n",
       "<table border=\"1\" class=\"dataframe\">\n",
       "  <thead>\n",
       "    <tr style=\"text-align: right;\">\n",
       "      <th></th>\n",
       "      <th>Year</th>\n",
       "      <th>Month</th>\n",
       "      <th>OFNS_DESC</th>\n",
       "      <th>count</th>\n",
       "    </tr>\n",
       "  </thead>\n",
       "  <tbody>\n",
       "    <tr>\n",
       "      <th>0</th>\n",
       "      <td>2016.0</td>\n",
       "      <td>6.0</td>\n",
       "      <td>MURDER &amp; NON-NEGL. MANSLAUGHTER</td>\n",
       "      <td>1</td>\n",
       "    </tr>\n",
       "    <tr>\n",
       "      <th>1</th>\n",
       "      <td>2016.0</td>\n",
       "      <td>8.0</td>\n",
       "      <td>MURDER &amp; NON-NEGL. MANSLAUGHTER</td>\n",
       "      <td>1</td>\n",
       "    </tr>\n",
       "    <tr>\n",
       "      <th>2</th>\n",
       "      <td>2016.0</td>\n",
       "      <td>10.0</td>\n",
       "      <td>MURDER &amp; NON-NEGL. MANSLAUGHTER</td>\n",
       "      <td>3</td>\n",
       "    </tr>\n",
       "    <tr>\n",
       "      <th>3</th>\n",
       "      <td>2016.0</td>\n",
       "      <td>11.0</td>\n",
       "      <td>MURDER &amp; NON-NEGL. MANSLAUGHTER</td>\n",
       "      <td>2</td>\n",
       "    </tr>\n",
       "    <tr>\n",
       "      <th>4</th>\n",
       "      <td>2017.0</td>\n",
       "      <td>1.0</td>\n",
       "      <td>MURDER &amp; NON-NEGL. MANSLAUGHTER</td>\n",
       "      <td>19</td>\n",
       "    </tr>\n",
       "    <tr>\n",
       "      <th>5</th>\n",
       "      <td>2017.0</td>\n",
       "      <td>2.0</td>\n",
       "      <td>MURDER &amp; NON-NEGL. MANSLAUGHTER</td>\n",
       "      <td>16</td>\n",
       "    </tr>\n",
       "    <tr>\n",
       "      <th>6</th>\n",
       "      <td>2017.0</td>\n",
       "      <td>3.0</td>\n",
       "      <td>MURDER &amp; NON-NEGL. MANSLAUGHTER</td>\n",
       "      <td>16</td>\n",
       "    </tr>\n",
       "  </tbody>\n",
       "</table>\n",
       "</div>"
      ],
      "text/plain": [
       "     Year  Month                        OFNS_DESC  count\n",
       "0  2016.0    6.0  MURDER & NON-NEGL. MANSLAUGHTER      1\n",
       "1  2016.0    8.0  MURDER & NON-NEGL. MANSLAUGHTER      1\n",
       "2  2016.0   10.0  MURDER & NON-NEGL. MANSLAUGHTER      3\n",
       "3  2016.0   11.0  MURDER & NON-NEGL. MANSLAUGHTER      2\n",
       "4  2017.0    1.0  MURDER & NON-NEGL. MANSLAUGHTER     19\n",
       "5  2017.0    2.0  MURDER & NON-NEGL. MANSLAUGHTER     16\n",
       "6  2017.0    3.0  MURDER & NON-NEGL. MANSLAUGHTER     16"
      ]
     },
     "execution_count": 30,
     "metadata": {},
     "output_type": "execute_result"
    }
   ],
   "source": [
    "nyc_count"
   ]
  },
  {
   "cell_type": "code",
   "execution_count": 31,
   "metadata": {
    "collapsed": false
   },
   "outputs": [],
   "source": [
    "nyc_count.insert(0,'City','New York City')\n",
    "nyc_count.insert(1,'State','NY')\n",
    "nyc_count['UCR_Type'] = ''\n",
    "nyc_count = nyc_count.rename(columns = {'OFNS_DESC':'homicide_type'})"
   ]
  },
  {
   "cell_type": "code",
   "execution_count": 32,
   "metadata": {
    "collapsed": false
   },
   "outputs": [],
   "source": [
    "nyc_count17 = nyc_count[4:] "
   ]
  },
  {
   "cell_type": "code",
   "execution_count": 33,
   "metadata": {
    "collapsed": false
   },
   "outputs": [
    {
     "data": {
      "text/html": [
       "<div>\n",
       "<style>\n",
       "    .dataframe thead tr:only-child th {\n",
       "        text-align: right;\n",
       "    }\n",
       "\n",
       "    .dataframe thead th {\n",
       "        text-align: left;\n",
       "    }\n",
       "\n",
       "    .dataframe tbody tr th {\n",
       "        vertical-align: top;\n",
       "    }\n",
       "</style>\n",
       "<table border=\"1\" class=\"dataframe\">\n",
       "  <thead>\n",
       "    <tr style=\"text-align: right;\">\n",
       "      <th></th>\n",
       "      <th>City</th>\n",
       "      <th>State</th>\n",
       "      <th>Year</th>\n",
       "      <th>Month</th>\n",
       "      <th>homicide_type</th>\n",
       "      <th>count</th>\n",
       "      <th>UCR_Type</th>\n",
       "    </tr>\n",
       "  </thead>\n",
       "  <tbody>\n",
       "    <tr>\n",
       "      <th>4</th>\n",
       "      <td>New York City</td>\n",
       "      <td>NY</td>\n",
       "      <td>2017.0</td>\n",
       "      <td>1.0</td>\n",
       "      <td>MURDER &amp; NON-NEGL. MANSLAUGHTER</td>\n",
       "      <td>19</td>\n",
       "      <td></td>\n",
       "    </tr>\n",
       "    <tr>\n",
       "      <th>5</th>\n",
       "      <td>New York City</td>\n",
       "      <td>NY</td>\n",
       "      <td>2017.0</td>\n",
       "      <td>2.0</td>\n",
       "      <td>MURDER &amp; NON-NEGL. MANSLAUGHTER</td>\n",
       "      <td>16</td>\n",
       "      <td></td>\n",
       "    </tr>\n",
       "    <tr>\n",
       "      <th>6</th>\n",
       "      <td>New York City</td>\n",
       "      <td>NY</td>\n",
       "      <td>2017.0</td>\n",
       "      <td>3.0</td>\n",
       "      <td>MURDER &amp; NON-NEGL. MANSLAUGHTER</td>\n",
       "      <td>16</td>\n",
       "      <td></td>\n",
       "    </tr>\n",
       "  </tbody>\n",
       "</table>\n",
       "</div>"
      ],
      "text/plain": [
       "            City State    Year  Month                    homicide_type  count  \\\n",
       "4  New York City    NY  2017.0    1.0  MURDER & NON-NEGL. MANSLAUGHTER     19   \n",
       "5  New York City    NY  2017.0    2.0  MURDER & NON-NEGL. MANSLAUGHTER     16   \n",
       "6  New York City    NY  2017.0    3.0  MURDER & NON-NEGL. MANSLAUGHTER     16   \n",
       "\n",
       "  UCR_Type  \n",
       "4           \n",
       "5           \n",
       "6           "
      ]
     },
     "execution_count": 33,
     "metadata": {},
     "output_type": "execute_result"
    }
   ],
   "source": [
    "nyc_count17"
   ]
  },
  {
   "cell_type": "code",
   "execution_count": 34,
   "metadata": {
    "collapsed": true
   },
   "outputs": [],
   "source": [
    "nyc_count17.to_csv('NYC_NYPD_homicide_counts_2017.csv',index=False,encoding='utf-8') "
   ]
  },
  {
   "cell_type": "code",
   "execution_count": 40,
   "metadata": {
    "collapsed": false
   },
   "outputs": [],
   "source": [
    "'''\n",
    "We need add those number back to our original homicide count.\n",
    "'''\n",
    "addition_homi_for_16 = nyc_count[:4]"
   ]
  },
  {
   "cell_type": "code",
   "execution_count": 38,
   "metadata": {
    "collapsed": false
   },
   "outputs": [],
   "source": [
    "addition_homi_for_16.to_csv('addition_homi_for_16.csv',index=False,encoding='utf-8')\n"
   ]
  },
  {
   "cell_type": "code",
   "execution_count": null,
   "metadata": {
    "collapsed": true
   },
   "outputs": [],
   "source": []
  }
 ],
 "metadata": {
  "kernelspec": {
   "display_name": "Python [Root]",
   "language": "python",
   "name": "Python [Root]"
  },
  "language_info": {
   "codemirror_mode": {
    "name": "ipython",
    "version": 3
   },
   "file_extension": ".py",
   "mimetype": "text/x-python",
   "name": "python",
   "nbconvert_exporter": "python",
   "pygments_lexer": "ipython3",
   "version": "3.5.2"
  }
 },
 "nbformat": 4,
 "nbformat_minor": 0
}
